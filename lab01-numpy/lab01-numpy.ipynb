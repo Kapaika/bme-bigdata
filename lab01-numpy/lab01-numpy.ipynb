{
 "cells": [
  {
   "cell_type": "markdown",
   "metadata": {},
   "source": [
    "# 20171018 - My lab 01 notes - NumPy\n",
    "\n",
    "## Basic data structures"
   ]
  },
  {
   "cell_type": "code",
   "execution_count": 1,
   "metadata": {},
   "outputs": [
    {
     "name": "stdout",
     "output_type": "stream",
     "text": [
      "Data in arr1D:\n",
      " [1 2 3 4 5 6 7 8]\n",
      "Data in arr2D:\n",
      " [[1 2 3 4]\n",
      " [5 6 7 8]]\n"
     ]
    },
    {
     "data": {
      "text/plain": [
       "array([[1, 2, 3, 4],\n",
       "       [5, 6, 7, 8]])"
      ]
     },
     "execution_count": 1,
     "metadata": {},
     "output_type": "execute_result"
    }
   ],
   "source": [
    "import numpy as np\n",
    "\n",
    "array1D = np.array([1,2,3,4,5,6,7,8])\n",
    "array2D = np.array([[1,2,3,4],[5,6,7,8]])\n",
    "\n",
    "#Standard print\n",
    "print('Data in arr1D:\\n', array1D)\n",
    "print('Data in arr2D:\\n', array2D)\n",
    "\n",
    "#The last line is evaluated\n",
    "array1D\n",
    "array2D"
   ]
  },
  {
   "cell_type": "markdown",
   "metadata": {},
   "source": [
    "## Creating arrays"
   ]
  },
  {
   "cell_type": "code",
   "execution_count": 39,
   "metadata": {},
   "outputs": [
    {
     "name": "stdout",
     "output_type": "stream",
     "text": [
      "<class 'numpy.ndarray'>\n",
      "(8,)\n",
      "[[ 0.  0.  0.  0.]\n",
      " [ 0.  0.  0.  0.]]\n",
      "[[ 1.  1.  1.  1.]\n",
      " [ 1.  1.  1.  1.]]\n",
      "[[ 0.8  0.8  0.8  0.8]\n",
      " [ 0.8  0.8  0.8  0.8]]\n",
      "[[ 0.62390991  0.6250513   0.45583278  0.26058447]\n",
      " [ 0.80674552  0.27583374  0.91661995  0.33935497]]\n"
     ]
    }
   ],
   "source": [
    "print(type(arr))\n",
    "print(arr.shape)\n",
    "\n",
    "array2D = np.zeros((2,4))\n",
    "print(array2D)\n",
    "\n",
    "array2D = np.ones((2,4))\n",
    "print(array2D)\n",
    "\n",
    "array2D = np.full((2,4),0.8)\n",
    "print(array2D)\n",
    "\n",
    "array2D = np.random.random((2,4))\n",
    "print(array2D)"
   ]
  },
  {
   "cell_type": "markdown",
   "metadata": {},
   "source": [
    "## Statistics"
   ]
  },
  {
   "cell_type": "code",
   "execution_count": 3,
   "metadata": {},
   "outputs": [
    {
     "name": "stdout",
     "output_type": "stream",
     "text": [
      "\n",
      " Standard deviation of array\n",
      "1.41421356237\n",
      "\n",
      " Numpy 2-dim array\n",
      "[[ 0.70877841  1.08488473  0.75614345  0.39343475 -1.09159538]\n",
      " [ 0.73399812  0.39836127 -0.75161155  0.27135876 -1.45327927]\n",
      " [ 0.8422371   0.27850071 -0.67032354  0.83166768 -0.66553294]\n",
      " [ 1.72591683 -0.66077105 -0.33339501  1.21957037 -0.67715499]\n",
      " [ 0.62372137 -1.09054098  1.28462688  0.24163735  0.04444997]\n",
      " [-1.71017295 -0.14348626 -0.51398444 -0.4380322  -0.63838363]\n",
      " [-2.05250016 -1.5312893  -1.13695393 -2.23734054  1.1419015 ]\n",
      " [ 1.18848575  1.94468234 -0.55002099  0.02451287 -0.90908412]\n",
      " [ 0.17940305 -0.67521462 -0.76642602  0.82111902 -1.08632999]\n",
      " [-0.62226332 -0.44511244 -1.49345312  0.92641361 -0.97935561]]\n",
      "\n",
      " Standard deviation of array\n",
      "0.988539226533\n"
     ]
    }
   ],
   "source": [
    "print('\\n Standard deviation of array')\n",
    "print(np.std(arr))\n",
    "\n",
    "print('\\n Numpy 2-dim array')\n",
    "tab10n5 = np.random.randn(10,5)\n",
    "\n",
    "print(tab10n5)\n",
    "print('\\n Standard deviation of array')\n",
    "print(np.std(tab10n5))"
   ]
  },
  {
   "cell_type": "code",
   "execution_count": null,
   "metadata": {
    "collapsed": true
   },
   "outputs": [],
   "source": []
  }
 ],
 "metadata": {
  "kernelspec": {
   "display_name": "Python 3",
   "language": "python",
   "name": "python3"
  },
  "language_info": {
   "codemirror_mode": {
    "name": "ipython",
    "version": 3
   },
   "file_extension": ".py",
   "mimetype": "text/x-python",
   "name": "python",
   "nbconvert_exporter": "python",
   "pygments_lexer": "ipython3",
   "version": "3.6.2"
  }
 },
 "nbformat": 4,
 "nbformat_minor": 1
}
